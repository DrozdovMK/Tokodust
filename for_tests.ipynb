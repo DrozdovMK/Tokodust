{
 "cells": [
  {
   "cell_type": "code",
   "execution_count": 1,
   "id": "153ac137398b6bd9",
   "metadata": {
    "collapsed": true,
    "ExecuteTime": {
     "end_time": "2023-10-22T07:52:05.870873300Z",
     "start_time": "2023-10-22T07:52:04.864130200Z"
    }
   },
   "outputs": [],
   "source": [
    "import cv2\n",
    "import numpy as np\n",
    "from trapezoid import *\n",
    "import os\n",
    "import math\n",
    "import matplotlib.pyplot as plt\n",
    "import importlib\n",
    "from TrapStretch import stretch_sequence_of_traps\n",
    "import time"
   ]
  },
  {
   "cell_type": "code",
   "execution_count": 17,
   "outputs": [
    {
     "name": "stdout",
     "output_type": "stream",
     "text": [
      "1\n"
     ]
    },
    {
     "ename": "AttributeError",
     "evalue": "module 'signal' has no attribute 'SIGALRM'",
     "output_type": "error",
     "traceback": [
      "\u001B[1;31m---------------------------------------------------------------------------\u001B[0m",
      "\u001B[1;31mAttributeError\u001B[0m                            Traceback (most recent call last)",
      "Cell \u001B[1;32mIn[17], line 47\u001B[0m\n\u001B[0;32m     43\u001B[0m         \u001B[38;5;28;01mdel\u001B[39;00m map2d\n\u001B[0;32m     44\u001B[0m     \u001B[38;5;66;03m#except:\u001B[39;00m\n\u001B[0;32m     45\u001B[0m     \u001B[38;5;66;03m#        pass\u001B[39;00m\n\u001B[1;32m---> 47\u001B[0m compute()\n",
      "Cell \u001B[1;32mIn[17], line 27\u001B[0m, in \u001B[0;36mcompute\u001B[1;34m(path, t_path)\u001B[0m\n\u001B[0;32m     25\u001B[0m pic \u001B[38;5;241m=\u001B[39m cv2\u001B[38;5;241m.\u001B[39mimread(data_path\u001B[38;5;241m+\u001B[39mfilename)\n\u001B[0;32m     26\u001B[0m \u001B[38;5;66;03m#dx = velocity(angles, peaks[i:])\u001B[39;00m\n\u001B[1;32m---> 27\u001B[0m pic2 \u001B[38;5;241m=\u001B[39m timeout(trapezoid(pic, angles[i], \u001B[38;5;241m5\u001B[39m))\n\u001B[0;32m     28\u001B[0m \u001B[38;5;28;01mif\u001B[39;00m pic2 \u001B[38;5;129;01mis\u001B[39;00m \u001B[38;5;129;01mnot\u001B[39;00m \u001B[38;5;28;01mNone\u001B[39;00m:\n\u001B[0;32m     29\u001B[0m     kostyl(pic2)\n",
      "Cell \u001B[1;32mIn[16], line 11\u001B[0m, in \u001B[0;36mtimeout\u001B[1;34m(func, args, kwargs, timeout_duration, default)\u001B[0m\n\u001B[0;32m      8\u001B[0m     \u001B[38;5;28;01mraise\u001B[39;00m \u001B[38;5;167;01mTimeoutError\u001B[39;00m()\n\u001B[0;32m     10\u001B[0m \u001B[38;5;66;03m# set the timeout handler\u001B[39;00m\n\u001B[1;32m---> 11\u001B[0m signal\u001B[38;5;241m.\u001B[39msignal(signal\u001B[38;5;241m.\u001B[39mSIGALRM, handler)\n\u001B[0;32m     12\u001B[0m signal\u001B[38;5;241m.\u001B[39malarm(timeout_duration)\n\u001B[0;32m     13\u001B[0m \u001B[38;5;28;01mtry\u001B[39;00m:\n",
      "\u001B[1;31mAttributeError\u001B[0m: module 'signal' has no attribute 'SIGALRM'"
     ]
    }
   ],
   "source": [
    "\n",
    "# Указать новые\n",
    "def compute(path = 'E:/Tokodust/data_frames/', t_path='E:/Tokodust/data_frames/'):    \n",
    "    for num in range(1,27):\n",
    "        print(num)\n",
    "        data_path = path+str(num)+'/'\n",
    "        trap_path = t_path+str(num)+'.5dx/'\n",
    "    #try:            \n",
    "        if not os.path.exists(trap_path):\n",
    "            os.mkdir(trap_path)\n",
    "        \n",
    "        angles = normalnye_ugly(data_path)\n",
    "        \n",
    "        peaks = get_peaks(data_path)\n",
    "\n",
    "        #==========================\n",
    "        # Преобразование к трапеции\n",
    "        #==========================\n",
    "        #all_pics = []\n",
    "        i = 0\n",
    "        for filename in os.listdir(data_path):\n",
    "            if '.png' in filename:\n",
    "                #print(filename)\n",
    "                #if '252' in filename:\n",
    "                #    print(10)\n",
    "                pic = cv2.imread(data_path+filename)\n",
    "                #dx = velocity(angles, peaks[i:])\n",
    "                pic2 = timeout(trapezoid(pic, angles[i], 5))\n",
    "                if pic2 is not None:\n",
    "                    kostyl(pic2)\n",
    "                    #plt.imshow(pic2, aspect=5)\n",
    "                    try:\n",
    "                        cv2.imwrite(trap_path+'{:03d}.png'.format(i), np.array(pic2))\n",
    "                    except:\n",
    "                        pass\n",
    "                #all_pics.append(pic2)\n",
    "                i += 1\n",
    "        #====================\n",
    "        #Превращение трапеции в прямоугольник и склейка\n",
    "        #====================\n",
    "\n",
    "        map2d = stretch_sequence_of_traps(trap_path)\n",
    "        cv2.imwrite(path+str(num)+'_5dx.png', map2d)\n",
    "        del map2d\n",
    "    #except:\n",
    "    #        pass\n",
    "\n",
    "compute()"
   ],
   "metadata": {
    "collapsed": false,
    "ExecuteTime": {
     "end_time": "2023-10-22T10:24:22.862594Z",
     "start_time": "2023-10-22T10:24:21.551467200Z"
    }
   },
   "id": "initial_id"
  },
  {
   "cell_type": "code",
   "execution_count": 12,
   "outputs": [
    {
     "name": "stdout",
     "output_type": "stream",
     "text": [
      "1\n",
      "10\n"
     ]
    },
    {
     "ename": "KeyboardInterrupt",
     "evalue": "",
     "output_type": "error",
     "traceback": [
      "\u001B[1;31m---------------------------------------------------------------------------\u001B[0m",
      "\u001B[1;31mKeyboardInterrupt\u001B[0m                         Traceback (most recent call last)",
      "Cell \u001B[1;32mIn[12], line 1\u001B[0m\n\u001B[1;32m----> 1\u001B[0m compute()\n",
      "Cell \u001B[1;32mIn[11], line 27\u001B[0m, in \u001B[0;36mcompute\u001B[1;34m(path, t_path)\u001B[0m\n\u001B[0;32m     25\u001B[0m pic \u001B[38;5;241m=\u001B[39m cv2\u001B[38;5;241m.\u001B[39mimread(data_path\u001B[38;5;241m+\u001B[39mfilename)\n\u001B[0;32m     26\u001B[0m \u001B[38;5;66;03m#dx = velocity(angles, peaks[i:])\u001B[39;00m\n\u001B[1;32m---> 27\u001B[0m pic2 \u001B[38;5;241m=\u001B[39m trapezoid(pic, angles[i], \u001B[38;5;241m5\u001B[39m)\n\u001B[0;32m     28\u001B[0m kostyl(pic2)\n\u001B[0;32m     29\u001B[0m \u001B[38;5;66;03m#plt.imshow(pic2, aspect=5)\u001B[39;00m\n",
      "File \u001B[1;32mD:\\Code\\Python\\tokodust\\trapezoid.py:69\u001B[0m, in \u001B[0;36mtrapezoid\u001B[1;34m(frame, angle, dx)\u001B[0m\n\u001B[0;32m     66\u001B[0m         trap[row]\u001B[38;5;241m.\u001B[39mappend(\u001B[38;5;28mlist\u001B[39m(frame[next_px[\u001B[38;5;241m0\u001B[39m]][next_px[\u001B[38;5;241m1\u001B[39m]]))\n\u001B[0;32m     68\u001B[0m     \u001B[38;5;66;03m# Новый круг\u001B[39;00m\n\u001B[1;32m---> 69\u001B[0m     prev_px \u001B[38;5;241m=\u001B[39m next_px\u001B[38;5;241m.\u001B[39mcopy()\n\u001B[0;32m     70\u001B[0m     phi \u001B[38;5;241m+\u001B[39m\u001B[38;5;241m=\u001B[39m d_phi\n\u001B[0;32m     72\u001B[0m radius \u001B[38;5;241m-\u001B[39m\u001B[38;5;241m=\u001B[39m \u001B[38;5;241m1\u001B[39m\n",
      "\u001B[1;31mKeyboardInterrupt\u001B[0m: "
     ]
    }
   ],
   "source": [
    "compute()"
   ],
   "metadata": {
    "collapsed": false,
    "ExecuteTime": {
     "end_time": "2023-10-22T08:13:44.538188400Z",
     "start_time": "2023-10-22T08:12:47.088999700Z"
    }
   },
   "id": "c36d10ab6ad08bf"
  },
  {
   "cell_type": "code",
   "execution_count": 2,
   "outputs": [
    {
     "ename": "IndexError",
     "evalue": "index 1 is out of bounds for axis 0 with size 1",
     "output_type": "error",
     "traceback": [
      "\u001B[1;31m---------------------------------------------------------------------------\u001B[0m",
      "\u001B[1;31mIndexError\u001B[0m                                Traceback (most recent call last)",
      "File \u001B[1;32mD:\\Code\\Python\\tokodust\\trapezoid.py:64\u001B[0m, in \u001B[0;36mtrapezoid\u001B[1;34m(frame, angle, dx)\u001B[0m\n\u001B[0;32m     62\u001B[0m     \u001B[38;5;28;01mif\u001B[39;00m prev_px \u001B[38;5;241m!=\u001B[39m next_px:\n\u001B[0;32m     63\u001B[0m         \u001B[38;5;66;03m#print(next_px[0],next_px[1])\u001B[39;00m\n\u001B[1;32m---> 64\u001B[0m         trap[row]\u001B[38;5;241m.\u001B[39mappend(\u001B[38;5;28mlist\u001B[39m(frame[next_px[\u001B[38;5;241m0\u001B[39m]][next_px[\u001B[38;5;241m1\u001B[39m]]))\n\u001B[0;32m     65\u001B[0m \u001B[38;5;28;01mexcept\u001B[39;00m:\n",
      "\u001B[1;31mIndexError\u001B[0m: index 1 is out of bounds for axis 0 with size 1",
      "\nDuring handling of the above exception, another exception occurred:\n",
      "\u001B[1;31mIndexError\u001B[0m                                Traceback (most recent call last)",
      "Cell \u001B[1;32mIn[2], line 22\u001B[0m\n\u001B[0;32m     20\u001B[0m pic \u001B[38;5;241m=\u001B[39m cv2\u001B[38;5;241m.\u001B[39mimread(data_path\u001B[38;5;241m+\u001B[39mfilename)\n\u001B[0;32m     21\u001B[0m \u001B[38;5;66;03m#dx = velocity(angles, peaks[i:])\u001B[39;00m\n\u001B[1;32m---> 22\u001B[0m pic2 \u001B[38;5;241m=\u001B[39m trapezoid(pic, angles[i], \u001B[38;5;241m5\u001B[39m)\n\u001B[0;32m     23\u001B[0m kostyl(pic2)\n\u001B[0;32m     24\u001B[0m \u001B[38;5;66;03m#plt.imshow(pic2, aspect=5)\u001B[39;00m\n",
      "File \u001B[1;32mD:\\Code\\Python\\tokodust\\trapezoid.py:66\u001B[0m, in \u001B[0;36mtrapezoid\u001B[1;34m(frame, angle, dx)\u001B[0m\n\u001B[0;32m     64\u001B[0m         trap[row]\u001B[38;5;241m.\u001B[39mappend(\u001B[38;5;28mlist\u001B[39m(frame[next_px[\u001B[38;5;241m0\u001B[39m]][next_px[\u001B[38;5;241m1\u001B[39m]]))\n\u001B[0;32m     65\u001B[0m \u001B[38;5;28;01mexcept\u001B[39;00m:\n\u001B[1;32m---> 66\u001B[0m     trap[row]\u001B[38;5;241m.\u001B[39mappend(\u001B[38;5;28mlist\u001B[39m(frame[next_px[\u001B[38;5;241m0\u001B[39m]][next_px[\u001B[38;5;241m1\u001B[39m]]))\n\u001B[0;32m     68\u001B[0m \u001B[38;5;66;03m# Новый круг\u001B[39;00m\n\u001B[0;32m     69\u001B[0m prev_px \u001B[38;5;241m=\u001B[39m next_px\u001B[38;5;241m.\u001B[39mcopy()\n",
      "\u001B[1;31mIndexError\u001B[0m: index 1 is out of bounds for axis 0 with size 1"
     ]
    }
   ],
   "source": [
    "data_path = 'E:/Tokodust/data_frames/6/'\n",
    "trap_path = 'E:/Tokodust/data_frames/6_5dx/'\n",
    "#try:            \n",
    "if not os.path.exists(trap_path):\n",
    "    os.mkdir(trap_path)\n",
    "\n",
    "angles = normalnye_ugly(data_path)\n",
    "\n",
    "peaks = get_peaks(data_path)\n",
    "\n",
    "#==========================\n",
    "# Преобразование к трапеции\n",
    "#==========================\n",
    "#all_pics = []\n",
    "i = 0\n",
    "for filename in os.listdir(data_path):\n",
    "    if '.png' in filename:\n",
    "        #if '252' in filename:\n",
    "        #    print(252)\n",
    "        pic = cv2.imread(data_path+filename)\n",
    "        #dx = velocity(angles, peaks[i:])\n",
    "        pic2 = trapezoid(pic, angles[i], 5)\n",
    "        kostyl(pic2)\n",
    "        #plt.imshow(pic2, aspect=5)\n",
    "        cv2.imwrite(trap_path+'{:03d}.png'.format(i), np.array(pic2))\n",
    "        #all_pics.append(pic2)\n",
    "        i += 1\n",
    "#====================\n",
    "#Превращение трапеции в прямоугольник и склейка\n",
    "#===================="
   ],
   "metadata": {
    "collapsed": false,
    "ExecuteTime": {
     "end_time": "2023-10-22T07:52:14.787060900Z",
     "start_time": "2023-10-22T07:52:09.441581500Z"
    }
   },
   "id": "2f5c2fadf3cd82de"
  },
  {
   "cell_type": "code",
   "execution_count": 9,
   "outputs": [],
   "source": [
    "\n",
    "map2d = stretch_sequence_of_traps(trap_path)\n",
    "cv2.imwrite('E:/Tokodust/data_frames/xxx/6_5dx.png', map2d)\n",
    "del map2d"
   ],
   "metadata": {
    "collapsed": false,
    "ExecuteTime": {
     "end_time": "2023-10-22T07:49:44.458203600Z",
     "start_time": "2023-10-22T07:49:37.895928600Z"
    }
   },
   "id": "d456b5f145dab57c"
  },
  {
   "cell_type": "code",
   "execution_count": 16,
   "outputs": [],
   "source": [
    "def timeout(func, args=(), kwargs={}, timeout_duration=100, default=None):\n",
    "    import signal\n",
    "\n",
    "    class TimeoutError(Exception):\n",
    "        pass\n",
    "\n",
    "    def handler(signum, frame):\n",
    "        raise TimeoutError()\n",
    "\n",
    "    # set the timeout handler\n",
    "    signal.signal(signal.SIGALRM, handler)\n",
    "    signal.alarm(timeout_duration)\n",
    "    try:\n",
    "        result = func(*args, **kwargs)\n",
    "    except TimeoutError as exc:\n",
    "        result = default\n",
    "    finally:\n",
    "        signal.alarm(0)\n",
    "\n",
    "    return result"
   ],
   "metadata": {
    "collapsed": false,
    "ExecuteTime": {
     "end_time": "2023-10-22T09:57:07.118555700Z",
     "start_time": "2023-10-22T09:57:07.097555400Z"
    }
   },
   "id": "2fda3ce6c50f846"
  },
  {
   "cell_type": "code",
   "execution_count": null,
   "outputs": [],
   "source": [],
   "metadata": {
    "collapsed": false
   },
   "id": "5630b62e1817926a"
  }
 ],
 "metadata": {
  "kernelspec": {
   "display_name": "Python 3",
   "language": "python",
   "name": "python3"
  },
  "language_info": {
   "codemirror_mode": {
    "name": "ipython",
    "version": 2
   },
   "file_extension": ".py",
   "mimetype": "text/x-python",
   "name": "python",
   "nbconvert_exporter": "python",
   "pygments_lexer": "ipython2",
   "version": "2.7.6"
  }
 },
 "nbformat": 4,
 "nbformat_minor": 5
}
